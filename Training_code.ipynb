{
  "nbformat": 4,
  "nbformat_minor": 0,
  "metadata": {
    "colab": {
      "name": "Training_code.ipynb",
      "provenance": [],
      "authorship_tag": "ABX9TyPwyqIPxF0iZTSLhm4uczmG",
      "include_colab_link": true
    },
    "kernelspec": {
      "name": "python3",
      "display_name": "Python 3"
    }
  },
  "cells": [
    {
      "cell_type": "markdown",
      "metadata": {
        "id": "view-in-github",
        "colab_type": "text"
      },
      "source": [
        "<a href=\"https://colab.research.google.com/github/sushant18072002/Python/blob/main/Training_code.ipynb\" target=\"_parent\"><img src=\"https://colab.research.google.com/assets/colab-badge.svg\" alt=\"Open In Colab\"/></a>"
      ]
    },
    {
      "cell_type": "code",
      "metadata": {
        "colab": {
          "base_uri": "https://localhost:8080/"
        },
        "id": "B7U1W-fEONla",
        "outputId": "9c4efcd5-908a-452a-bcda-24f420fb0613"
      },
      "source": [
        "print(\"hello world\")"
      ],
      "execution_count": 22,
      "outputs": [
        {
          "output_type": "stream",
          "text": [
            "hello world\n"
          ],
          "name": "stdout"
        }
      ]
    },
    {
      "cell_type": "code",
      "metadata": {
        "colab": {
          "base_uri": "https://localhost:8080/"
        },
        "id": "0lbTiS_yP8Ga",
        "outputId": "34c7fe3e-8e2c-4db5-b776-0981d62c6543"
      },
      "source": [
        "a=5 \r\n",
        "b=4\r\n",
        "print(a+b)"
      ],
      "execution_count": null,
      "outputs": [
        {
          "output_type": "stream",
          "text": [
            "9\n"
          ],
          "name": "stdout"
        }
      ]
    },
    {
      "cell_type": "code",
      "metadata": {
        "colab": {
          "base_uri": "https://localhost:8080/"
        },
        "id": "SmdOfnn8QKNb",
        "outputId": "a67d8be0-80b9-44be-f359-01b14b48a4e2"
      },
      "source": [
        "c=2.7\r\n",
        "print(type(c))"
      ],
      "execution_count": null,
      "outputs": [
        {
          "output_type": "stream",
          "text": [
            "<class 'float'>\n"
          ],
          "name": "stdout"
        }
      ]
    },
    {
      "cell_type": "code",
      "metadata": {
        "colab": {
          "base_uri": "https://localhost:8080/"
        },
        "id": "CcCjtkxsTAZd",
        "outputId": "4bcbd6ea-de5c-46ca-8099-186763f7a9f2"
      },
      "source": [
        "a=[1,2,3]\r\n",
        "print(type(a))"
      ],
      "execution_count": null,
      "outputs": [
        {
          "output_type": "stream",
          "text": [
            "<class 'list'>\n"
          ],
          "name": "stdout"
        }
      ]
    },
    {
      "cell_type": "code",
      "metadata": {
        "colab": {
          "base_uri": "https://localhost:8080/"
        },
        "id": "L19zDrp9Ty-r",
        "outputId": "00fbc19d-55f4-4b29-8ca7-415989f11549"
      },
      "source": [
        "a=('a','b')\r\n",
        "print(type(a))"
      ],
      "execution_count": null,
      "outputs": [
        {
          "output_type": "stream",
          "text": [
            "<class 'tuple'>\n"
          ],
          "name": "stdout"
        }
      ]
    },
    {
      "cell_type": "code",
      "metadata": {
        "colab": {
          "base_uri": "https://localhost:8080/"
        },
        "id": "o5LE7ZmCULn_",
        "outputId": "dca69638-0d0d-4fc8-f77a-fde97bd6760a"
      },
      "source": [
        "a={'c'}\r\n",
        "print(type(a))"
      ],
      "execution_count": 24,
      "outputs": [
        {
          "output_type": "stream",
          "text": [
            "<class 'set'>\n"
          ],
          "name": "stdout"
        }
      ]
    },
    {
      "cell_type": "code",
      "metadata": {
        "colab": {
          "base_uri": "https://localhost:8080/"
        },
        "id": "1lVfHEaUUoZN",
        "outputId": "2f2c2fd1-b3ea-4f0a-8fd2-c1bca7d7618b"
      },
      "source": [
        "h=3+9j\r\n",
        "print(type(h))"
      ],
      "execution_count": null,
      "outputs": [
        {
          "output_type": "stream",
          "text": [
            "<class 'complex'>\n"
          ],
          "name": "stdout"
        }
      ]
    },
    {
      "cell_type": "code",
      "metadata": {
        "colab": {
          "base_uri": "https://localhost:8080/"
        },
        "id": "T1K1KkemU2JM",
        "outputId": "63ac6f6d-38cf-4465-cc95-3c685d059df9"
      },
      "source": [
        "j={1:'aa',2:'b'}\r\n",
        "type(j)"
      ],
      "execution_count": null,
      "outputs": [
        {
          "output_type": "execute_result",
          "data": {
            "text/plain": [
              "dict"
            ]
          },
          "metadata": {
            "tags": []
          },
          "execution_count": 10
        }
      ]
    },
    {
      "cell_type": "code",
      "metadata": {
        "colab": {
          "base_uri": "https://localhost:8080/"
        },
        "id": "arcPDK4yVZcX",
        "outputId": "97bfbb7a-7f31-460d-954a-d36653598a16"
      },
      "source": [
        "a=[1,2,3,4]\r\n",
        "print(sum(a))"
      ],
      "execution_count": null,
      "outputs": [
        {
          "output_type": "stream",
          "text": [
            "10\n"
          ],
          "name": "stdout"
        }
      ]
    },
    {
      "cell_type": "code",
      "metadata": {
        "colab": {
          "base_uri": "https://localhost:8080/",
          "height": 182
        },
        "id": "FwCjUK2-YFpO",
        "outputId": "f4d3af68-26ea-4636-9ae7-66e0dd514e5a"
      },
      "source": [
        "a=input(\"Enter your string\")\r\n",
        "print(a)\r\n"
      ],
      "execution_count": 25,
      "outputs": [
        {
          "output_type": "error",
          "ename": "TypeError",
          "evalue": "ignored",
          "traceback": [
            "\u001b[0;31m---------------------------------------------------------------------------\u001b[0m",
            "\u001b[0;31mTypeError\u001b[0m                                 Traceback (most recent call last)",
            "\u001b[0;32m<ipython-input-25-14fa10d7f617>\u001b[0m in \u001b[0;36m<module>\u001b[0;34m()\u001b[0m\n\u001b[0;32m----> 1\u001b[0;31m \u001b[0ma\u001b[0m\u001b[0;34m=\u001b[0m\u001b[0minput\u001b[0m\u001b[0;34m(\u001b[0m\u001b[0;34m\"Enter your string\"\u001b[0m\u001b[0;34m)\u001b[0m\u001b[0;34m\u001b[0m\u001b[0;34m\u001b[0m\u001b[0m\n\u001b[0m\u001b[1;32m      2\u001b[0m \u001b[0mprint\u001b[0m\u001b[0;34m(\u001b[0m\u001b[0ma\u001b[0m\u001b[0;34m)\u001b[0m\u001b[0;34m\u001b[0m\u001b[0;34m\u001b[0m\u001b[0m\n",
            "\u001b[0;31mTypeError\u001b[0m: 'str' object is not callable"
          ]
        }
      ]
    },
    {
      "cell_type": "markdown",
      "metadata": {
        "id": "jkJ-AFEY8Jic"
      },
      "source": [
        "find the occurrences of vowels"
      ]
    },
    {
      "cell_type": "code",
      "metadata": {
        "id": "Z_FlleIsanZe",
        "colab": {
          "base_uri": "https://localhost:8080/"
        },
        "outputId": "d630f48e-98d3-4c8e-ed9f-acb5e3292b5d"
      },
      "source": [
        "input=input().lower()\r\n",
        "Vowels = {x: input.count(x) for x in \"aeiou\"}\r\n",
        "print(\"vowels in sentence—\"+str(list(Vowels.keys()))+\"\\n Each vowel repeated as—\"+str(list(Vowels.values())))"
      ],
      "execution_count": 11,
      "outputs": [
        {
          "output_type": "stream",
          "text": [
            "SUSHANT\n",
            "vowels in sentence—['a', 'e', 'i', 'o', 'u']\n",
            " Each vowel repeated as—[1, 0, 0, 0, 1]\n"
          ],
          "name": "stdout"
        }
      ]
    },
    {
      "cell_type": "code",
      "metadata": {
        "id": "JNq54LM4p9kY"
      },
      "source": [
        "\r\n"
      ],
      "execution_count": 21,
      "outputs": []
    },
    {
      "cell_type": "code",
      "metadata": {
        "id": "ADFDZY3i7pvD"
      },
      "source": [
        ""
      ],
      "execution_count": null,
      "outputs": []
    }
  ]
}